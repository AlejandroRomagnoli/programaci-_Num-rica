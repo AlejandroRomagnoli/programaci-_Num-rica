{
 "cells": [
  {
   "cell_type": "markdown",
   "id": "ff584042",
   "metadata": {},
   "source": [
    "# M1T01: Pràctica amb programació numèrica NumPy"
   ]
  },
  {
   "cell_type": "markdown",
   "id": "22ac9669",
   "metadata": {},
   "source": [
    "## Exercici 1\n",
    "\n",
    "Crea una funció que donat un Array d’una dimensió, et faci un resum estadístic bàsic de les dades. Si detecta que l’array té més d’una dimensió, ha de mostrar un missatge d’error."
   ]
  },
  {
   "cell_type": "code",
   "execution_count": 18,
   "id": "c4a3566a",
   "metadata": {},
   "outputs": [
    {
     "name": "stdout",
     "output_type": "stream",
     "text": [
      "\n",
      " El array:  \n",
      " [0.6975729  0.75930949 0.23796517 0.25848501 0.29895197 0.43022553\n",
      " 0.32080801 0.69017716 0.08839168 0.04178299] \n",
      " \n",
      " Los elementos del array son tipo:  float64 \n",
      " Tamaño:  10 \n",
      " Forma:   (10,)\n",
      "\n",
      " Resumen Datos Estadísticos del array:  \n",
      " \n",
      " Valor Mínimo:  \t 0.04178298916282053 \n",
      " Valor Máximo:  \t 0.7593094880593462 \n",
      " Mediana:  \t \t 0.30987998721380927 \n",
      " Media:  \t \t 0.3823669893345823 \n",
      " Suma de los valores:  \t 3.823669893345823 \n",
      " Rango de valores:  \t 0.7175264988965256 \n",
      " Percentil 75:  \t 0.6251892490435954 \n",
      " Percentil 50:  \t 0.30987998721380927 \n",
      " Percentil 25:  \t 0.24309513022940074 \n",
      " Desviación estándar:  \t 0.24245475814968334 \n",
      " Varianza:  \t \t 0.058784309749421434\n"
     ]
    }
   ],
   "source": [
    "import numpy as np\n",
    "from numpy import random\n",
    "\n",
    "#crear un array de 1D\n",
    "\n",
    "x = np.random.rand(10)\n",
    "x\n",
    "if x.ndim == 1:\n",
    "    \n",
    "    print(\"\\n\", \"El array: \",\"\\n\", x, \"\\n\",    \n",
    "          \"\\n\", \"Los elementos del array son tipo: \", x.dtype,\n",
    "          \"\\n\", \"Tamaño: \", np.size(x),\n",
    "          \"\\n\", \"Forma:  \", np.shape(x))\n",
    "        \n",
    "    print(\"\\n\", \"Resumen Datos Estadísticos del array: \",\"\\n\",\n",
    "          \n",
    "          \"\\n\", \"Valor Mínimo: \", \"\\t\", np.min(x), #Valor Mínimo\n",
    "          \"\\n\", \"Valor Máximo: \", \"\\t\",np.max(x),  #Valor Máximo\n",
    "          \"\\n\", \"Mediana: \", \"\\t\",\"\\t\", np.median(x), \n",
    "          \"\\n\", \"Media: \", \"\\t\",\"\\t\", np.mean(x),\n",
    "          \"\\n\", \"Suma de los valores: \", \"\\t\", np.sum(x),\n",
    "          \"\\n\", \"Rango de valores: \", \"\\t\", np.ptp(x),\n",
    "          \"\\n\", \"Percentil 75: \", \"\\t\", np.percentile(x,75),\n",
    "          \"\\n\", \"Percentil 50: \", \"\\t\", np.percentile(x,50),\n",
    "          \"\\n\", \"Percentil 25: \", \"\\t\", np.percentile(x,25),\n",
    "          \"\\n\", \"Desviación estándar: \", \"\\t\", np.std(x),\n",
    "          \"\\n\", \"Varianza: \", \"\\t\",\"\\t\", np.var(x))\n",
    "     \n",
    "else:\n",
    "    print(\"La matríz no es de 1 dimención\")"
   ]
  },
  {
   "cell_type": "code",
   "execution_count": 19,
   "id": "0d1d88aa",
   "metadata": {},
   "outputs": [
    {
     "name": "stdout",
     "output_type": "stream",
     "text": [
      "[35 40 87 85 64]\n"
     ]
    }
   ],
   "source": [
    "#Crear una matriz random 1D\n",
    "\n",
    "from numpy import random\n",
    "\n",
    "x=random.randint(100, size=(5))\n",
    "\n",
    "print(x)"
   ]
  },
  {
   "cell_type": "markdown",
   "id": "401c14ab",
   "metadata": {},
   "source": [
    "## Exercici 2\n",
    "\n",
    "Crea una funció que et generi un quadrat NxN de nombres aleatoris entre el 0 i el 100."
   ]
  },
  {
   "cell_type": "code",
   "execution_count": 20,
   "id": "92196986",
   "metadata": {},
   "outputs": [
    {
     "name": "stdout",
     "output_type": "stream",
     "text": [
      "[[80 10 99 26 99]\n",
      " [33  2  7  3 72]\n",
      " [99 69 55 76 61]\n",
      " [27 66 30 65 81]\n",
      " [78 72 58  4 64]]\n"
     ]
    }
   ],
   "source": [
    "import numpy as np\n",
    "from numpy import random\n",
    "\n",
    "x = np.random.randint(100, size=(5, 5))\n",
    "\n",
    "print(x)"
   ]
  },
  {
   "cell_type": "markdown",
   "id": "31d9deaf",
   "metadata": {},
   "source": [
    "## Exercici 3\n",
    "\n",
    "Crea una funció que donada una taula de dues dimensions, et calculi els totals per fila i els totals per columna."
   ]
  },
  {
   "cell_type": "code",
   "execution_count": 21,
   "id": "f254c1a6",
   "metadata": {},
   "outputs": [
    {
     "name": "stdout",
     "output_type": "stream",
     "text": [
      "La Matriz:  \n",
      " [[16  1 14]\n",
      " [16 10  5]\n",
      " [11  8 19]\n",
      " [16 10  5]]\n",
      "\n",
      "Totales por Fila:  \t [31 31 38 31]\n",
      "Totales por Columna:  \t [59 29 43]\n"
     ]
    }
   ],
   "source": [
    "m = np.random.randint(20, size=(4,3))\n",
    "\n",
    "\n",
    "print(\"La Matriz: \",\"\\n\", m)\n",
    "print()\n",
    "print(\"Totales por Fila: \",\"\\t\", np.sum(m, axis=1))\n",
    "print(\"Totales por Columna: \", \"\\t\",  np.sum(m, axis = 0))\n"
   ]
  },
  {
   "cell_type": "markdown",
   "id": "2d504990",
   "metadata": {},
   "source": [
    "## Exercici 4\n",
    "\n",
    "Implementa manualment una funció que calculi el coeficient de correlació. Informa’t-en sobre els seus usos i interpretació."
   ]
  },
  {
   "cell_type": "code",
   "execution_count": 23,
   "id": "a41258b5",
   "metadata": {},
   "outputs": [
    {
     "name": "stdout",
     "output_type": "stream",
     "text": [
      "\n",
      " Valores de x:  [37 33 31 37 29 33 37 28 20 28] \n",
      " \n",
      " media de x: 31.3\n",
      "\n",
      " Valores de y:  [ 3 10 18  4  4  5  7  5 15  4] \n",
      " \n",
      " media de y: 7.5\n",
      "\n",
      " (x - media x) **2: \t [3.2490e+01 2.8900e+00 9.0000e-02 3.2490e+01 5.2900e+00 2.8900e+00\n",
      " 3.2490e+01 1.0890e+01 1.2769e+02 1.0890e+01]\n",
      "\n",
      " (y - media y) **2: \t [ 20.25   6.25 110.25  12.25  12.25   6.25   0.25   6.25  56.25  12.25]\n",
      "\n",
      " ((x - media x)**2)*((y - media y)**2):  [-25.65   4.25  -3.15 -19.95   8.05  -4.25  -2.85   8.25 -84.75  11.55]\n",
      "\n",
      "\n",
      "cálculo de Coeficiente de Correlación:  \n",
      " \n",
      " r = -108.5 / ( 16.065490966665166 * 15.572411502397436 ) \n",
      " r = -0.4336904554827549\n",
      "\n"
     ]
    }
   ],
   "source": [
    "import numpy as np\n",
    "from numpy import random\n",
    "\n",
    "\n",
    "y = random.randint(20, size=(10))\n",
    "x = random.randint(20,40, size = (10))\n",
    "\n",
    "media_x = np.mean(x) # media de x\n",
    "media_y = np.mean(y) # media de y\n",
    "\n",
    "\n",
    "print(\"\\n\",\"Valores de x: \", x,\"\\n\",\"\\n\", \"media de x:\",  media_x)\n",
    "print(\"\\n\",\"Valores de y: \", y,\"\\n\",\"\\n\", \"media de y:\", media_y)\n",
    "\n",
    "\n",
    "#print(\"media de x:\", \"\\t\", media_x)\n",
    "#print(\"media de y:\", \"\\t\", media_y)\n",
    "\n",
    "a = (x - media_x) # (x - mean x)\n",
    "b = (y - media_y) # (y - mean y)\n",
    "\n",
    "c = a * b   # (x - mean x)*(y - mean y)\n",
    "\n",
    "def sumatoria(i):\n",
    "    resultado = np.sum(i)\n",
    "    return resultado\n",
    "\n",
    "sumatoria_a = sumatoria(a) \n",
    "sumatoria_b = sumatoria(b)\n",
    "\n",
    "a_al_cuadrado = a**2\n",
    "b_al_cuadrado = b**2\n",
    "\n",
    "sumatoria_a_cuadrado = sum(a_al_cuadrado)\n",
    "sumatoria_b_cuadrado = sum(b_al_cuadrado)\n",
    "\n",
    "print(\"\\n\", \"(x - media x) **2:\", \"\\t\",  a_al_cuadrado)\n",
    "print(\"\\n\", \"(y - media y) **2:\", \"\\t\",  b_al_cuadrado)\n",
    "\n",
    "sumatoria_c = sumatoria(c)\n",
    "r = sumatoria_c / (np.sqrt(sumatoria_a_cuadrado) * np.sqrt(sumatoria_b_cuadrado))\n",
    "\n",
    "print(\"\\n\", \"((x - media x)**2)*((y - media y)**2): \", c) \n",
    "print()\n",
    "print()\n",
    "print(\"cálculo de Coeficiente de Correlación: \", \"\\n\",\n",
    "     \"\\n\", \"r =\", sumatoria_c, \"/\", \"(\", np.sqrt(sumatoria_a_cuadrado) ,\n",
    "      \"*\", np.sqrt(sumatoria_b_cuadrado),\")\", \"\\n\", \"r =\", r)\n",
    "print()"
   ]
  },
  {
   "attachments": {
    "correlacion.jpg": {
     "image/jpeg": "[encoded data removed]"
    }
   },
   "cell_type": "markdown",
   "id": "d1997cbc",
   "metadata": {},
   "source": [
    "### Correlación\n",
    "![correlacion.jpg](attachment:correlacion.jpg)\n",
    "\n",
    "#### Uso \n",
    "\n",
    "Es un indice que podemos usar para medir el grado de relación de dos variables siempre y cuando ambas sean cuantitativas y continuas.\n",
    "\n",
    "#### Interpretación\n",
    "\n",
    "El valor del índice de correlación varía en el intervalo [-1,1], indicando el signo el sentido de la relación:\n",
    "\n",
    "* Si r = 1, existe una correlación positiva perfecta. El índice indica una dependencia total entre las dos variables denominada relación directa: cuando una de ellas aumenta, la otra también lo hace en proporción constante.\n",
    "* Si 0 < r < 1 entonces existe una correlación positiva.\n",
    "* Si r = 0 entonces no existe relación lineal pero esto no necesariamente implica que las variables son independientes: pueden existir todavía relaciones no lineales entre las dos variables.\n",
    "* Si -1 < r < 0, existe una correlación negativa.\n",
    "* Si r = -1, existe una correlación negativa perfecta. El índice indica una dependencia total entre las dos variables llamada relación inversa: cuando una de ellas aumenta, la otra disminuye en proporción constante."
   ]
  }
 ],
 "metadata": {
  "kernelspec": {
   "display_name": "Python 3",
   "language": "python",
   "name": "python3"
  },
  "language_info": {
   "codemirror_mode": {
    "name": "ipython",
    "version": 3
   },
   "file_extension": ".py",
   "mimetype": "text/x-python",
   "name": "python",
   "nbconvert_exporter": "python",
   "pygments_lexer": "ipython3",
   "version": "3.8.8"
  },
  "latex_envs": {
   "LaTeX_envs_menu_present": true,
   "autoclose": false,
   "autocomplete": true,
   "bibliofile": "biblio.bib",
   "cite_by": "apalike",
   "current_citInitial": 1,
   "eqLabelWithNumbers": true,
   "eqNumInitial": 1,
   "hotkeys": {
    "equation": "Ctrl-E",
    "itemize": "Ctrl-I"
   },
   "labels_anchors": false,
   "latex_user_defs": false,
   "report_style_numbering": false,
   "user_envs_cfg": false
  }
 },
 "nbformat": 4,
 "nbformat_minor": 5
}
